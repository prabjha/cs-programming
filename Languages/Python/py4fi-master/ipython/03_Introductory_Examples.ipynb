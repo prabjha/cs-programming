{
 "metadata": {
  "name": "",
  "signature": "sha256:65c417af6b17f91c7645d0489a1d7f8ea6f1d1a22cfa9851683d153470378fa9"
 },
 "nbformat": 3,
 "nbformat_minor": 0,
 "worksheets": [
  {
   "cells": [
    {
     "cell_type": "markdown",
     "metadata": {},
     "source": [
      "<img src=\"http://hilpisch.com/tpq_logo.png\" alt=\"The Python Quants\" width=\"35%\" align=\"right\" border=\"0\"><br>"
     ]
    },
    {
     "cell_type": "heading",
     "level": 1,
     "metadata": {},
     "source": [
      "Python for Finance"
     ]
    },
    {
     "cell_type": "markdown",
     "metadata": {},
     "source": [
      "**Analyze Big Financial Data**\n",
      "\n",
      "O'Reilly (2014)\n",
      "\n",
      "Yves Hilpisch"
     ]
    },
    {
     "cell_type": "markdown",
     "metadata": {},
     "source": [
      "<img style=\"border:1px solid grey;\" src=\"http://hilpisch.com/python_for_finance.png\" alt=\"Python for Finance\" width=\"30%\" align=\"left\" border=\"0\">"
     ]
    },
    {
     "cell_type": "markdown",
     "metadata": {},
     "source": [
      "**Buy the book ** |\n",
      "<a href='http://shop.oreilly.com/product/0636920032441.do' target='_blank'>O'Reilly</a> |\n",
      "<a href='http://www.amazon.com/Yves-Hilpisch/e/B00JCYHHJM' target='_blank'>Amazon</a>\n",
      "\n",
      "**All book codes & IPYNBs** |\n",
      "<a href=\"http://oreilly.quant-platform.com\">http://oreilly.quant-platform.com</a>\n",
      "\n",
      "**The Python Quants GmbH** | <a href='http://pythonquants.com' target='_blank'>www.pythonquants.com</a>\n",
      "\n",
      "**Contact us** | <a href='mailto:analytics@pythonquants.com'>analytics@pythonquants.com</a>"
     ]
    },
    {
     "cell_type": "heading",
     "level": 1,
     "metadata": {},
     "source": [
      "Introductory Examples"
     ]
    },
    {
     "cell_type": "code",
     "collapsed": false,
     "input": [
      "import warnings\n",
      "warnings.simplefilter('ignore')"
     ],
     "language": "python",
     "metadata": {},
     "outputs": [],
     "prompt_number": 1
    },
    {
     "cell_type": "heading",
     "level": 2,
     "metadata": {},
     "source": [
      "Implied Volatilities"
     ]
    },
    {
     "cell_type": "code",
     "collapsed": false,
     "input": [
      "V0 = 17.6639"
     ],
     "language": "python",
     "metadata": {
      "uuid": "8e3ac03d-e5c1-4184-8494-5c02f5c1a897"
     },
     "outputs": [],
     "prompt_number": 2
    },
    {
     "cell_type": "code",
     "collapsed": false,
     "input": [
      "r = 0.01"
     ],
     "language": "python",
     "metadata": {
      "uuid": "3d727b16-4ff1-49fb-a54a-6e96568f54b0"
     },
     "outputs": [],
     "prompt_number": 3
    },
    {
     "cell_type": "code",
     "collapsed": false,
     "input": [
      "import pandas as pd\n",
      "h5 = pd.HDFStore('./source/vstoxx_data_31032014.h5', 'r')\n",
      "futures_data = h5['futures_data']  # VSTOXX futures data\n",
      "options_data = h5['options_data']  # VSTOXX call option data\n",
      "h5.close()"
     ],
     "language": "python",
     "metadata": {
      "uuid": "009042d8-f384-482c-8b4b-eeac6312315e"
     },
     "outputs": [],
     "prompt_number": 4
    },
    {
     "cell_type": "code",
     "collapsed": false,
     "input": [
      "futures_data"
     ],
     "language": "python",
     "metadata": {
      "uuid": "8d5c855d-87d0-4108-93c7-57094610bd68"
     },
     "outputs": [
      {
       "html": [
        "<div style=\"max-height:1000px;max-width:1500px;overflow:auto;\">\n",
        "<table border=\"1\" class=\"dataframe\">\n",
        "  <thead>\n",
        "    <tr style=\"text-align: right;\">\n",
        "      <th></th>\n",
        "      <th>DATE</th>\n",
        "      <th>EXP_YEAR</th>\n",
        "      <th>EXP_MONTH</th>\n",
        "      <th>PRICE</th>\n",
        "      <th>MATURITY</th>\n",
        "      <th>TTM</th>\n",
        "    </tr>\n",
        "  </thead>\n",
        "  <tbody>\n",
        "    <tr>\n",
        "      <th>496</th>\n",
        "      <td>2014-03-31</td>\n",
        "      <td> 2014</td>\n",
        "      <td>  4</td>\n",
        "      <td> 17.85</td>\n",
        "      <td>2014-04-18</td>\n",
        "      <td> 0.049</td>\n",
        "    </tr>\n",
        "    <tr>\n",
        "      <th>497</th>\n",
        "      <td>2014-03-31</td>\n",
        "      <td> 2014</td>\n",
        "      <td>  5</td>\n",
        "      <td> 19.55</td>\n",
        "      <td>2014-05-16</td>\n",
        "      <td> 0.126</td>\n",
        "    </tr>\n",
        "    <tr>\n",
        "      <th>498</th>\n",
        "      <td>2014-03-31</td>\n",
        "      <td> 2014</td>\n",
        "      <td>  6</td>\n",
        "      <td> 19.95</td>\n",
        "      <td>2014-06-20</td>\n",
        "      <td> 0.222</td>\n",
        "    </tr>\n",
        "    <tr>\n",
        "      <th>499</th>\n",
        "      <td>2014-03-31</td>\n",
        "      <td> 2014</td>\n",
        "      <td>  7</td>\n",
        "      <td> 20.40</td>\n",
        "      <td>2014-07-18</td>\n",
        "      <td> 0.299</td>\n",
        "    </tr>\n",
        "    <tr>\n",
        "      <th>500</th>\n",
        "      <td>2014-03-31</td>\n",
        "      <td> 2014</td>\n",
        "      <td>  8</td>\n",
        "      <td> 20.70</td>\n",
        "      <td>2014-08-15</td>\n",
        "      <td> 0.375</td>\n",
        "    </tr>\n",
        "    <tr>\n",
        "      <th>501</th>\n",
        "      <td>2014-03-31</td>\n",
        "      <td> 2014</td>\n",
        "      <td>  9</td>\n",
        "      <td> 20.95</td>\n",
        "      <td>2014-09-19</td>\n",
        "      <td> 0.471</td>\n",
        "    </tr>\n",
        "    <tr>\n",
        "      <th>502</th>\n",
        "      <td>2014-03-31</td>\n",
        "      <td> 2014</td>\n",
        "      <td> 10</td>\n",
        "      <td> 21.05</td>\n",
        "      <td>2014-10-17</td>\n",
        "      <td> 0.548</td>\n",
        "    </tr>\n",
        "    <tr>\n",
        "      <th>503</th>\n",
        "      <td>2014-03-31</td>\n",
        "      <td> 2014</td>\n",
        "      <td> 11</td>\n",
        "      <td> 21.25</td>\n",
        "      <td>2014-11-21</td>\n",
        "      <td> 0.644</td>\n",
        "    </tr>\n",
        "  </tbody>\n",
        "</table>\n",
        "</div>"
       ],
       "metadata": {},
       "output_type": "pyout",
       "prompt_number": 5,
       "text": [
        "          DATE  EXP_YEAR  EXP_MONTH  PRICE   MATURITY    TTM\n",
        "496 2014-03-31      2014          4  17.85 2014-04-18  0.049\n",
        "497 2014-03-31      2014          5  19.55 2014-05-16  0.126\n",
        "498 2014-03-31      2014          6  19.95 2014-06-20  0.222\n",
        "499 2014-03-31      2014          7  20.40 2014-07-18  0.299\n",
        "500 2014-03-31      2014          8  20.70 2014-08-15  0.375\n",
        "501 2014-03-31      2014          9  20.95 2014-09-19  0.471\n",
        "502 2014-03-31      2014         10  21.05 2014-10-17  0.548\n",
        "503 2014-03-31      2014         11  21.25 2014-11-21  0.644"
       ]
      }
     ],
     "prompt_number": 5
    },
    {
     "cell_type": "code",
     "collapsed": false,
     "input": [
      "options_data.info()"
     ],
     "language": "python",
     "metadata": {
      "uuid": "48b29f70-8142-4960-8d4d-3a241685bc1d"
     },
     "outputs": [
      {
       "output_type": "stream",
       "stream": "stdout",
       "text": [
        "<class 'pandas.core.frame.DataFrame'>\n",
        "Int64Index: 395 entries, 46170 to 46564\n",
        "Data columns (total 8 columns):\n",
        "DATE         395 non-null datetime64[ns]\n",
        "EXP_YEAR     395 non-null int64\n",
        "EXP_MONTH    395 non-null int64\n",
        "TYPE         395 non-null object\n",
        "STRIKE       395 non-null float64\n",
        "PRICE        395 non-null float64\n",
        "MATURITY     395 non-null datetime64[ns]\n",
        "TTM          395 non-null float64\n",
        "dtypes: datetime64[ns](2), float64(3), int64(2), object(1)\n",
        "memory usage: 27.8+ KB\n"
       ]
      }
     ],
     "prompt_number": 6
    },
    {
     "cell_type": "code",
     "collapsed": false,
     "input": [
      "options_data[['DATE', 'MATURITY', 'TTM', 'STRIKE', 'PRICE']].head()"
     ],
     "language": "python",
     "metadata": {
      "uuid": "dead6085-55a7-46c1-9396-3ec0e247b8f4"
     },
     "outputs": [
      {
       "html": [
        "<div style=\"max-height:1000px;max-width:1500px;overflow:auto;\">\n",
        "<table border=\"1\" class=\"dataframe\">\n",
        "  <thead>\n",
        "    <tr style=\"text-align: right;\">\n",
        "      <th></th>\n",
        "      <th>DATE</th>\n",
        "      <th>MATURITY</th>\n",
        "      <th>TTM</th>\n",
        "      <th>STRIKE</th>\n",
        "      <th>PRICE</th>\n",
        "    </tr>\n",
        "  </thead>\n",
        "  <tbody>\n",
        "    <tr>\n",
        "      <th>46170</th>\n",
        "      <td>2014-03-31</td>\n",
        "      <td>2014-04-18</td>\n",
        "      <td> 0.049</td>\n",
        "      <td> 1</td>\n",
        "      <td> 16.85</td>\n",
        "    </tr>\n",
        "    <tr>\n",
        "      <th>46171</th>\n",
        "      <td>2014-03-31</td>\n",
        "      <td>2014-04-18</td>\n",
        "      <td> 0.049</td>\n",
        "      <td> 2</td>\n",
        "      <td> 15.85</td>\n",
        "    </tr>\n",
        "    <tr>\n",
        "      <th>46172</th>\n",
        "      <td>2014-03-31</td>\n",
        "      <td>2014-04-18</td>\n",
        "      <td> 0.049</td>\n",
        "      <td> 3</td>\n",
        "      <td> 14.85</td>\n",
        "    </tr>\n",
        "    <tr>\n",
        "      <th>46173</th>\n",
        "      <td>2014-03-31</td>\n",
        "      <td>2014-04-18</td>\n",
        "      <td> 0.049</td>\n",
        "      <td> 4</td>\n",
        "      <td> 13.85</td>\n",
        "    </tr>\n",
        "    <tr>\n",
        "      <th>46174</th>\n",
        "      <td>2014-03-31</td>\n",
        "      <td>2014-04-18</td>\n",
        "      <td> 0.049</td>\n",
        "      <td> 5</td>\n",
        "      <td> 12.85</td>\n",
        "    </tr>\n",
        "  </tbody>\n",
        "</table>\n",
        "</div>"
       ],
       "metadata": {},
       "output_type": "pyout",
       "prompt_number": 7,
       "text": [
        "            DATE   MATURITY    TTM  STRIKE  PRICE\n",
        "46170 2014-03-31 2014-04-18  0.049       1  16.85\n",
        "46171 2014-03-31 2014-04-18  0.049       2  15.85\n",
        "46172 2014-03-31 2014-04-18  0.049       3  14.85\n",
        "46173 2014-03-31 2014-04-18  0.049       4  13.85\n",
        "46174 2014-03-31 2014-04-18  0.049       5  12.85"
       ]
      }
     ],
     "prompt_number": 7
    },
    {
     "cell_type": "code",
     "collapsed": false,
     "input": [
      "options_data['IMP_VOL'] = 0.0\n",
      "  # new column for implied volatilities"
     ],
     "language": "python",
     "metadata": {
      "uuid": "808a0269-42d5-43ed-b753-28abb46820de"
     },
     "outputs": [],
     "prompt_number": 8
    },
    {
     "cell_type": "code",
     "collapsed": false,
     "input": [
      "from bsm_functions import *"
     ],
     "language": "python",
     "metadata": {
      "uuid": "233c9f45-d3c4-48f4-8422-7e77c490d232"
     },
     "outputs": [],
     "prompt_number": 9
    },
    {
     "cell_type": "code",
     "collapsed": false,
     "input": [
      "tol = 0.5  # tolerance level for moneyness\n",
      "for option in options_data.index:\n",
      "    # iterating over all option quotes\n",
      "    forward = futures_data[futures_data['MATURITY'] == \\\n",
      "                options_data.loc[option]['MATURITY']]['PRICE'].values[0]\n",
      "      # picking the right futures value\n",
      "    if (forward * (1 - tol) < options_data.loc[option]['STRIKE']\n",
      "                             < forward * (1 + tol)):\n",
      "        # only for options with moneyness within tolerance\n",
      "        imp_vol = bsm_call_imp_vol(\n",
      "                V0,  # VSTOXX value \n",
      "                options_data.loc[option]['STRIKE'],\n",
      "                options_data.loc[option]['TTM'],\n",
      "                r,   # short rate\n",
      "                options_data.loc[option]['PRICE'],\n",
      "                sigma_est=2.,  # estimate for implied volatility\n",
      "                it=100)\n",
      "        options_data['IMP_VOL'].loc[option] = imp_vol"
     ],
     "language": "python",
     "metadata": {
      "uuid": "8da4e671-cbbc-44fd-8050-c8fe300a4501"
     },
     "outputs": [],
     "prompt_number": 10
    },
    {
     "cell_type": "code",
     "collapsed": false,
     "input": [
      "futures_data['MATURITY']\n",
      "  # select the column with name MATURITY"
     ],
     "language": "python",
     "metadata": {
      "uuid": "94491814-c0c6-4565-b1f7-cedb1af12c48"
     },
     "outputs": [
      {
       "metadata": {},
       "output_type": "pyout",
       "prompt_number": 11,
       "text": [
        "496   2014-04-18\n",
        "497   2014-05-16\n",
        "498   2014-06-20\n",
        "499   2014-07-18\n",
        "500   2014-08-15\n",
        "501   2014-09-19\n",
        "502   2014-10-17\n",
        "503   2014-11-21\n",
        "Name: MATURITY, dtype: datetime64[ns]"
       ]
      }
     ],
     "prompt_number": 11
    },
    {
     "cell_type": "code",
     "collapsed": false,
     "input": [
      "options_data.loc[46170]\n",
      "  # select data row for index 46170"
     ],
     "language": "python",
     "metadata": {
      "uuid": "cbb44f1e-2ab5-4d8f-976a-2d36515eef12"
     },
     "outputs": [
      {
       "metadata": {},
       "output_type": "pyout",
       "prompt_number": 12,
       "text": [
        "DATE         2014-03-31 00:00:00\n",
        "EXP_YEAR                    2014\n",
        "EXP_MONTH                      4\n",
        "TYPE                           C\n",
        "STRIKE                         1\n",
        "PRICE                      16.85\n",
        "MATURITY     2014-04-18 00:00:00\n",
        "TTM                        0.049\n",
        "IMP_VOL                        0\n",
        "Name: 46170, dtype: object"
       ]
      }
     ],
     "prompt_number": 12
    },
    {
     "cell_type": "code",
     "collapsed": false,
     "input": [
      "options_data.loc[46170]['STRIKE']\n",
      "  # select only the value in column STRIKE\n",
      "  # for index 46170 "
     ],
     "language": "python",
     "metadata": {
      "uuid": "e267720a-901b-42fd-86eb-f31c29ebc166"
     },
     "outputs": [
      {
       "metadata": {},
       "output_type": "pyout",
       "prompt_number": 13,
       "text": [
        "1.0"
       ]
      }
     ],
     "prompt_number": 13
    },
    {
     "cell_type": "code",
     "collapsed": false,
     "input": [
      "plot_data = options_data[options_data['IMP_VOL'] > 0]"
     ],
     "language": "python",
     "metadata": {
      "uuid": "03092953-5496-4500-9cf5-e3cbcf46d396"
     },
     "outputs": [],
     "prompt_number": 14
    },
    {
     "cell_type": "code",
     "collapsed": false,
     "input": [
      "maturities = sorted(set(options_data['MATURITY']))\n",
      "maturities"
     ],
     "language": "python",
     "metadata": {
      "uuid": "738b9618-b3a9-434f-a685-441a0c837b76"
     },
     "outputs": [
      {
       "metadata": {},
       "output_type": "pyout",
       "prompt_number": 15,
       "text": [
        "[Timestamp('2014-04-18 00:00:00'),\n",
        " Timestamp('2014-05-16 00:00:00'),\n",
        " Timestamp('2014-06-20 00:00:00'),\n",
        " Timestamp('2014-07-18 00:00:00'),\n",
        " Timestamp('2014-08-15 00:00:00'),\n",
        " Timestamp('2014-09-19 00:00:00'),\n",
        " Timestamp('2014-10-17 00:00:00'),\n",
        " Timestamp('2014-11-21 00:00:00')]"
       ]
      }
     ],
     "prompt_number": 15
    },
    {
     "cell_type": "code",
     "collapsed": false,
     "input": [
      "import matplotlib.pyplot as plt\n",
      "%matplotlib inline\n",
      "plt.figure(figsize=(8, 6))\n",
      "for maturity in maturities:\n",
      "    data = plot_data[options_data.MATURITY == maturity]\n",
      "      # select data for this maturity\n",
      "    plt.plot(data['STRIKE'], data['IMP_VOL'],\n",
      "             label=maturity.date(), lw=1.5)\n",
      "    plt.plot(data['STRIKE'], data['IMP_VOL'], 'r.')\n",
      "plt.grid(True) \n",
      "plt.xlabel('strike')\n",
      "plt.ylabel('implied volatility of volatility')\n",
      "plt.legend()\n",
      "plt.show()\n",
      "# tag: vs_imp_vol\n",
      "# title: Implied volatilities (of volatility) for European call options on the VSTOXX on 31. March 2014"
     ],
     "language": "python",
     "metadata": {
      "uuid": "8886807a-ca71-48d0-b5ef-ab7cb9470548"
     },
     "outputs": [
      {
       "metadata": {},
       "output_type": "display_data",
       "png": "[encoded data removed]",
       "text": [
        "<matplotlib.figure.Figure at 0x109a8bf50>"
       ]
      }
     ],
     "prompt_number": 16
    },
    {
     "cell_type": "code",
     "collapsed": false,
     "input": [
      "keep = ['PRICE', 'IMP_VOL']\n",
      "group_data = plot_data.groupby(['MATURITY', 'STRIKE'])[keep]\n",
      "group_data"
     ],
     "language": "python",
     "metadata": {
      "uuid": "34582055-b4b2-49ea-8678-e44288f7de88"
     },
     "outputs": [
      {
       "metadata": {},
       "output_type": "pyout",
       "prompt_number": 17,
       "text": [
        "<pandas.core.groupby.DataFrameGroupBy object at 0x1075ab710>"
       ]
      }
     ],
     "prompt_number": 17
    },
    {
     "cell_type": "code",
     "collapsed": false,
     "input": [
      "group_data = group_data.sum()\n",
      "group_data.head()"
     ],
     "language": "python",
     "metadata": {
      "uuid": "1b5253de-0b31-4af0-8155-b2c405363a0d"
     },
     "outputs": [
      {
       "html": [
        "<div style=\"max-height:1000px;max-width:1500px;overflow:auto;\">\n",
        "<table border=\"1\" class=\"dataframe\">\n",
        "  <thead>\n",
        "    <tr style=\"text-align: right;\">\n",
        "      <th></th>\n",
        "      <th></th>\n",
        "      <th>PRICE</th>\n",
        "      <th>IMP_VOL</th>\n",
        "    </tr>\n",
        "    <tr>\n",
        "      <th>MATURITY</th>\n",
        "      <th>STRIKE</th>\n",
        "      <th></th>\n",
        "      <th></th>\n",
        "    </tr>\n",
        "  </thead>\n",
        "  <tbody>\n",
        "    <tr>\n",
        "      <th rowspan=\"5\" valign=\"top\">2014-04-18</th>\n",
        "      <th>9 </th>\n",
        "      <td> 8.85</td>\n",
        "      <td> 2.083388</td>\n",
        "    </tr>\n",
        "    <tr>\n",
        "      <th>10</th>\n",
        "      <td> 7.85</td>\n",
        "      <td> 1.804193</td>\n",
        "    </tr>\n",
        "    <tr>\n",
        "      <th>11</th>\n",
        "      <td> 6.85</td>\n",
        "      <td> 1.550283</td>\n",
        "    </tr>\n",
        "    <tr>\n",
        "      <th>12</th>\n",
        "      <td> 5.85</td>\n",
        "      <td> 1.316103</td>\n",
        "    </tr>\n",
        "    <tr>\n",
        "      <th>13</th>\n",
        "      <td> 4.85</td>\n",
        "      <td> 1.097184</td>\n",
        "    </tr>\n",
        "  </tbody>\n",
        "</table>\n",
        "</div>"
       ],
       "metadata": {},
       "output_type": "pyout",
       "prompt_number": 18,
       "text": [
        "                   PRICE   IMP_VOL\n",
        "MATURITY   STRIKE                 \n",
        "2014-04-18 9        8.85  2.083388\n",
        "           10       7.85  1.804193\n",
        "           11       6.85  1.550283\n",
        "           12       5.85  1.316103\n",
        "           13       4.85  1.097184"
       ]
      }
     ],
     "prompt_number": 18
    },
    {
     "cell_type": "code",
     "collapsed": false,
     "input": [
      "group_data.index.levels"
     ],
     "language": "python",
     "metadata": {
      "uuid": "390e4908-23ed-4419-a62d-b25ed3cf2d15"
     },
     "outputs": [
      {
       "metadata": {},
       "output_type": "pyout",
       "prompt_number": 19,
       "text": [
        "FrozenList([[2014-04-18 00:00:00, 2014-05-16 00:00:00, 2014-06-20 00:00:00, 2014-07-18 00:00:00, 2014-08-15 00:00:00, 2014-09-19 00:00:00, 2014-10-17 00:00:00, 2014-11-21 00:00:00], [9.0, 10.0, 11.0, 12.0, 13.0, 14.0, 15.0, 16.0, 17.0, 18.0, 19.0, 20.0, 21.0, 22.0, 23.0, 24.0, 25.0, 26.0, 27.0, 28.0, 29.0, 30.0]])"
       ]
      }
     ],
     "prompt_number": 19
    },
    {
     "cell_type": "heading",
     "level": 2,
     "metadata": {},
     "source": [
      "Monte Carlo Simulation"
     ]
    },
    {
     "cell_type": "code",
     "collapsed": false,
     "input": [
      "from bsm_functions import bsm_call_value\n",
      "S0 = 100.\n",
      "K = 105.\n",
      "T = 1.0\n",
      "r = 0.05\n",
      "sigma = 0.2\n",
      "bsm_call_value(S0, K, T, r, sigma)"
     ],
     "language": "python",
     "metadata": {
      "uuid": "13a3c945-2ae9-4583-b21f-cb6d4e4729b8"
     },
     "outputs": [
      {
       "metadata": {},
       "output_type": "pyout",
       "prompt_number": 20,
       "text": [
        "8.0213522351431834"
       ]
      }
     ],
     "prompt_number": 20
    },
    {
     "cell_type": "heading",
     "level": 3,
     "metadata": {},
     "source": [
      "Pure Python"
     ]
    },
    {
     "cell_type": "code",
     "collapsed": false,
     "input": [
      "%run mcs_pure_python.py"
     ],
     "language": "python",
     "metadata": {
      "uuid": "aebfedcc-472c-4225-82eb-6405ecf7eaa9"
     },
     "outputs": [
      {
       "output_type": "stream",
       "stream": "stdout",
       "text": [
        "European Option Value   7.999\n",
        "Duration in Seconds    30.006\n"
       ]
      }
     ],
     "prompt_number": 21
    },
    {
     "cell_type": "code",
     "collapsed": false,
     "input": [
      "sum_val = 0.0\n",
      "for path in S:\n",
      "    # C-like iteration for comparison\n",
      "    sum_val += max(path[-1] - K, 0)\n",
      "C0 = exp(-r * T) * sum_val / I\n",
      "round(C0, 3)"
     ],
     "language": "python",
     "metadata": {
      "uuid": "d038ec31-373b-4979-aa49-a47ff96fc234"
     },
     "outputs": [
      {
       "metadata": {},
       "output_type": "pyout",
       "prompt_number": 22,
       "text": [
        "7.999"
       ]
      }
     ],
     "prompt_number": 22
    },
    {
     "cell_type": "heading",
     "level": 3,
     "metadata": {},
     "source": [
      "Vectorization with NumPy"
     ]
    },
    {
     "cell_type": "code",
     "collapsed": false,
     "input": [
      "v = range(1, 6)\n",
      "print v"
     ],
     "language": "python",
     "metadata": {
      "uuid": "2f695395-b7b7-4d0c-bab3-659fcd4da5d0"
     },
     "outputs": [
      {
       "output_type": "stream",
       "stream": "stdout",
       "text": [
        "[1, 2, 3, 4, 5]\n"
       ]
      }
     ],
     "prompt_number": 23
    },
    {
     "cell_type": "code",
     "collapsed": false,
     "input": [
      "2 * v"
     ],
     "language": "python",
     "metadata": {
      "uuid": "548c6e07-9435-421c-9408-d63252608f74"
     },
     "outputs": [
      {
       "metadata": {},
       "output_type": "pyout",
       "prompt_number": 24,
       "text": [
        "[1, 2, 3, 4, 5, 1, 2, 3, 4, 5]"
       ]
      }
     ],
     "prompt_number": 24
    },
    {
     "cell_type": "code",
     "collapsed": false,
     "input": [
      "import numpy as np\n",
      "v = np.arange(1, 6)\n",
      "v"
     ],
     "language": "python",
     "metadata": {
      "uuid": "0a831df5-d2c3-46af-8399-ad2b4b411001"
     },
     "outputs": [
      {
       "metadata": {},
       "output_type": "pyout",
       "prompt_number": 25,
       "text": [
        "array([1, 2, 3, 4, 5])"
       ]
      }
     ],
     "prompt_number": 25
    },
    {
     "cell_type": "code",
     "collapsed": false,
     "input": [
      "2 * v"
     ],
     "language": "python",
     "metadata": {
      "uuid": "4c5153ff-983f-4ee1-95d6-0dae809da4bf"
     },
     "outputs": [
      {
       "metadata": {},
       "output_type": "pyout",
       "prompt_number": 26,
       "text": [
        "array([ 2,  4,  6,  8, 10])"
       ]
      }
     ],
     "prompt_number": 26
    },
    {
     "cell_type": "code",
     "collapsed": false,
     "input": [
      "%run mcs_vector_numpy.py"
     ],
     "language": "python",
     "metadata": {
      "uuid": "0fca4476-2003-4733-a6e1-f405997e1b1a"
     },
     "outputs": [
      {
       "output_type": "stream",
       "stream": "stdout",
       "text": [
        "European Option Value   8.037\n",
        "Duration in Seconds     0.922\n"
       ]
      }
     ],
     "prompt_number": 27
    },
    {
     "cell_type": "code",
     "collapsed": false,
     "input": [
      "round(tpy / tnp1, 2)"
     ],
     "language": "python",
     "metadata": {
      "uuid": "6d10a22b-fed3-4627-a2bc-6f958824ca2f"
     },
     "outputs": [
      {
       "metadata": {},
       "output_type": "pyout",
       "prompt_number": 28,
       "text": [
        "32.54"
       ]
      }
     ],
     "prompt_number": 28
    },
    {
     "cell_type": "heading",
     "level": 3,
     "metadata": {},
     "source": [
      "Full Vectorization with Log Euler Scheme"
     ]
    },
    {
     "cell_type": "code",
     "collapsed": false,
     "input": [
      "%run mcs_full_vector_numpy.py"
     ],
     "language": "python",
     "metadata": {
      "uuid": "02a121e5-75ff-4ad1-9812-ec0e69d3ebaa"
     },
     "outputs": [
      {
       "output_type": "stream",
       "stream": "stdout",
       "text": [
        "European Option Value   8.166\n",
        "Duration in Seconds     1.310\n"
       ]
      }
     ],
     "prompt_number": 29
    },
    {
     "cell_type": "heading",
     "level": 3,
     "metadata": {},
     "source": [
      "Graphical Analysis"
     ]
    },
    {
     "cell_type": "code",
     "collapsed": false,
     "input": [
      "import matplotlib.pyplot as plt\n",
      "plt.plot(S[:, :10])\n",
      "plt.grid(True)\n",
      "plt.xlabel('time step')\n",
      "plt.ylabel('index level')\n",
      "# tag: index_paths\n",
      "# title: The first 10 simulated index level paths"
     ],
     "language": "python",
     "metadata": {
      "uuid": "f880bd6e-72fa-4906-b2a7-24f3c7419338"
     },
     "outputs": [
      {
       "metadata": {},
       "output_type": "pyout",
       "prompt_number": 30,
       "text": [
        "<matplotlib.text.Text at 0x109d240d0>"
       ]
      },
      {
       "metadata": {},
       "output_type": "display_data",
       "png": "[encoded data removed]",
       "text": [
        "<matplotlib.figure.Figure at 0x109c381d0>"
       ]
      }
     ],
     "prompt_number": 30
    },
    {
     "cell_type": "code",
     "collapsed": false,
     "input": [
      "plt.hist(S[-1], bins=50)\n",
      "plt.grid(True)\n",
      "plt.xlabel('index level')\n",
      "plt.ylabel('frequency')\n",
      "# tag: index_histo\n",
      "# title: Histogram of all simulated end of period index level values"
     ],
     "language": "python",
     "metadata": {
      "uuid": "997e2c48-f4e4-49c2-be9b-ce2ed0a2166f"
     },
     "outputs": [
      {
       "metadata": {},
       "output_type": "pyout",
       "prompt_number": 31,
       "text": [
        "<matplotlib.text.Text at 0x109cd5fd0>"
       ]
      },
      {
       "metadata": {},
       "output_type": "display_data",
       "png": "[encoded data removed]",
       "text": [
        "<matplotlib.figure.Figure at 0x109ce10d0>"
       ]
      }
     ],
     "prompt_number": 31
    },
    {
     "cell_type": "code",
     "collapsed": false,
     "input": [
      "plt.hist(np.maximum(S[-1] - K, 0), bins=50)\n",
      "plt.grid(True)\n",
      "plt.xlabel('option inner value')\n",
      "plt.ylabel('frequency')\n",
      "plt.ylim(0, 50000)\n",
      "# tag: option_iv_hist\n",
      "# title: Histogram of all simulated end of period option inner values"
     ],
     "language": "python",
     "metadata": {
      "uuid": "bc4f9174-c92c-4abf-9d31-da3e7d0baec5"
     },
     "outputs": [
      {
       "metadata": {},
       "output_type": "pyout",
       "prompt_number": 32,
       "text": [
        "(0, 50000)"
       ]
      },
      {
       "metadata": {},
       "output_type": "display_data",
       "png": "[encoded data removed]",
       "text": [
        "<matplotlib.figure.Figure at 0x109c5f7d0>"
       ]
      }
     ],
     "prompt_number": 32
    },
    {
     "cell_type": "code",
     "collapsed": false,
     "input": [
      "sum(S[-1] < K)"
     ],
     "language": "python",
     "metadata": {
      "uuid": "d5aed456-001a-423c-9366-df294f1c3f0b"
     },
     "outputs": [
      {
       "metadata": {},
       "output_type": "pyout",
       "prompt_number": 33,
       "text": [
        "133533"
       ]
      }
     ],
     "prompt_number": 33
    },
    {
     "cell_type": "heading",
     "level": 2,
     "metadata": {},
     "source": [
      "Technical Analysis"
     ]
    },
    {
     "cell_type": "code",
     "collapsed": false,
     "input": [
      "import numpy as np\n",
      "import pandas as pd\n",
      "import pandas.io.data as web"
     ],
     "language": "python",
     "metadata": {
      "uuid": "dcba1a61-94e3-47dd-ab54-2c688e740741"
     },
     "outputs": [],
     "prompt_number": 34
    },
    {
     "cell_type": "code",
     "collapsed": false,
     "input": [
      "sp500 = web.DataReader('^GSPC', data_source='yahoo',\n",
      "                       start='1/1/2000', end='4/14/2014')\n",
      "sp500.info()"
     ],
     "language": "python",
     "metadata": {
      "uuid": "3b6ce702-6a8c-400c-a6fc-d382f316dd9c"
     },
     "outputs": [
      {
       "output_type": "stream",
       "stream": "stdout",
       "text": [
        "<class 'pandas.core.frame.DataFrame'>\n",
        "DatetimeIndex: 3633 entries, 2000-01-03 00:00:00 to 2014-04-14 00:00:00\n",
        "Data columns (total 6 columns):\n",
        "Open         3633 non-null float64\n",
        "High         3633 non-null float64\n",
        "Low          3633 non-null float64\n",
        "Close        3633 non-null float64\n",
        "Volume       3633 non-null int64\n",
        "Adj Close    3633 non-null float64\n",
        "dtypes: float64(5), int64(1)\n",
        "memory usage: 198.7 KB\n"
       ]
      }
     ],
     "prompt_number": 35
    },
    {
     "cell_type": "code",
     "collapsed": false,
     "input": [
      "sp500['Close'].plot(grid=True, figsize=(8, 5))\n",
      "# tag: sp500\n",
      "# title: Historical levels of the S&P 500 index"
     ],
     "language": "python",
     "metadata": {
      "uuid": "444a17d9-8fd1-436d-825a-3001cb080b7c"
     },
     "outputs": [
      {
       "metadata": {},
       "output_type": "pyout",
       "prompt_number": 36,
       "text": [
        "<matplotlib.axes._subplots.AxesSubplot at 0x137a2f5d0>"
       ]
      },
      {
       "metadata": {},
       "output_type": "display_data",
       "png": "[encoded data removed]",
       "text": [
        "<matplotlib.figure.Figure at 0x137a38b50>"
       ]
      }
     ],
     "prompt_number": 36
    },
    {
     "cell_type": "code",
     "collapsed": false,
     "input": [
      "sp500['42d'] = np.round(pd.rolling_mean(sp500['Close'], window=42), 2)\n",
      "sp500['252d'] = np.round(pd.rolling_mean(sp500['Close'], window=252), 2)"
     ],
     "language": "python",
     "metadata": {
      "uuid": "d134fa6d-4db4-40f3-b1ce-952ef2346e18"
     },
     "outputs": [],
     "prompt_number": 37
    },
    {
     "cell_type": "code",
     "collapsed": false,
     "input": [
      "sp500[['Close', '42d', '252d']].tail()"
     ],
     "language": "python",
     "metadata": {
      "uuid": "8af03824-0abb-4747-9f8f-d517d48bd673"
     },
     "outputs": [
      {
       "html": [
        "<div style=\"max-height:1000px;max-width:1500px;overflow:auto;\">\n",
        "<table border=\"1\" class=\"dataframe\">\n",
        "  <thead>\n",
        "    <tr style=\"text-align: right;\">\n",
        "      <th></th>\n",
        "      <th>Close</th>\n",
        "      <th>42d</th>\n",
        "      <th>252d</th>\n",
        "    </tr>\n",
        "    <tr>\n",
        "      <th>Date</th>\n",
        "      <th></th>\n",
        "      <th></th>\n",
        "      <th></th>\n",
        "    </tr>\n",
        "  </thead>\n",
        "  <tbody>\n",
        "    <tr>\n",
        "      <th>2014-04-08</th>\n",
        "      <td> 1851.96</td>\n",
        "      <td> 1853.88</td>\n",
        "      <td> 1728.66</td>\n",
        "    </tr>\n",
        "    <tr>\n",
        "      <th>2014-04-09</th>\n",
        "      <td> 1872.18</td>\n",
        "      <td> 1855.66</td>\n",
        "      <td> 1729.79</td>\n",
        "    </tr>\n",
        "    <tr>\n",
        "      <th>2014-04-10</th>\n",
        "      <td> 1833.08</td>\n",
        "      <td> 1856.46</td>\n",
        "      <td> 1730.74</td>\n",
        "    </tr>\n",
        "    <tr>\n",
        "      <th>2014-04-11</th>\n",
        "      <td> 1815.69</td>\n",
        "      <td> 1856.36</td>\n",
        "      <td> 1731.64</td>\n",
        "    </tr>\n",
        "    <tr>\n",
        "      <th>2014-04-14</th>\n",
        "      <td> 1830.61</td>\n",
        "      <td> 1856.63</td>\n",
        "      <td> 1732.74</td>\n",
        "    </tr>\n",
        "  </tbody>\n",
        "</table>\n",
        "</div>"
       ],
       "metadata": {},
       "output_type": "pyout",
       "prompt_number": 38,
       "text": [
        "              Close      42d     252d\n",
        "Date                                 \n",
        "2014-04-08  1851.96  1853.88  1728.66\n",
        "2014-04-09  1872.18  1855.66  1729.79\n",
        "2014-04-10  1833.08  1856.46  1730.74\n",
        "2014-04-11  1815.69  1856.36  1731.64\n",
        "2014-04-14  1830.61  1856.63  1732.74"
       ]
      }
     ],
     "prompt_number": 38
    },
    {
     "cell_type": "code",
     "collapsed": false,
     "input": [
      "sp500[['Close', '42d', '252d']].plot(grid=True, figsize=(8, 5))\n",
      "# tag: sp500_trend\n",
      "# title: The S&P 500 index with 42d and 252d trend lines"
     ],
     "language": "python",
     "metadata": {
      "uuid": "4dc6ac7e-6fac-4994-811b-35789c551de7"
     },
     "outputs": [
      {
       "metadata": {},
       "output_type": "pyout",
       "prompt_number": 39,
       "text": [
        "<matplotlib.axes._subplots.AxesSubplot at 0x137a93e10>"
       ]
      },
      {
       "metadata": {},
       "output_type": "display_data",
       "png": "[encoded data removed]",
       "text": [
        "<matplotlib.figure.Figure at 0x1378159d0>"
       ]
      }
     ],
     "prompt_number": 39
    },
    {
     "cell_type": "code",
     "collapsed": false,
     "input": [
      "sp500['42-252'] = sp500['42d'] - sp500['252d']\n",
      "sp500['42-252'].tail()"
     ],
     "language": "python",
     "metadata": {
      "uuid": "ccc2b0e9-5ab7-49c1-8054-3a1e1b23ab92"
     },
     "outputs": [
      {
       "metadata": {},
       "output_type": "pyout",
       "prompt_number": 40,
       "text": [
        "Date\n",
        "2014-04-08    125.22\n",
        "2014-04-09    125.87\n",
        "2014-04-10    125.72\n",
        "2014-04-11    124.72\n",
        "2014-04-14    123.89\n",
        "Name: 42-252, dtype: float64"
       ]
      }
     ],
     "prompt_number": 40
    },
    {
     "cell_type": "code",
     "collapsed": false,
     "input": [
      "sp500['42-252'].head()"
     ],
     "language": "python",
     "metadata": {
      "uuid": "e127f7c9-8e7f-4038-b490-502e6bf436f7"
     },
     "outputs": [
      {
       "metadata": {},
       "output_type": "pyout",
       "prompt_number": 41,
       "text": [
        "Date\n",
        "2000-01-03   NaN\n",
        "2000-01-04   NaN\n",
        "2000-01-05   NaN\n",
        "2000-01-06   NaN\n",
        "2000-01-07   NaN\n",
        "Name: 42-252, dtype: float64"
       ]
      }
     ],
     "prompt_number": 41
    },
    {
     "cell_type": "code",
     "collapsed": false,
     "input": [
      "SD = 50\n",
      "sp500['Regime'] = np.where(sp500['42-252'] > SD, 1, 0)\n",
      "sp500['Regime'] = np.where(sp500['42-252'] < -SD, -1, sp500['Regime'])\n",
      "sp500['Regime'].value_counts()"
     ],
     "language": "python",
     "metadata": {
      "uuid": "d1125e1b-3cd0-4274-aee7-9b1136db8c02"
     },
     "outputs": [
      {
       "metadata": {},
       "output_type": "pyout",
       "prompt_number": 42,
       "text": [
        " 1    1494\n",
        " 0    1249\n",
        "-1     890\n",
        "dtype: int64"
       ]
      }
     ],
     "prompt_number": 42
    },
    {
     "cell_type": "code",
     "collapsed": false,
     "input": [
      "sp500['Regime'].plot(lw=1.5)\n",
      "plt.ylim([-1.1, 1.1])\n",
      "# tag: sp500_signal\n",
      "# title: Signal regimes over time"
     ],
     "language": "python",
     "metadata": {
      "uuid": "ffec4dc1-ebb4-43e1-962d-1fbc465afee1"
     },
     "outputs": [
      {
       "metadata": {},
       "output_type": "pyout",
       "prompt_number": 43,
       "text": [
        "(-1.1, 1.1)"
       ]
      },
      {
       "metadata": {},
       "output_type": "display_data",
       "png": "[encoded data removed]",
       "text": [
        "<matplotlib.figure.Figure at 0x12afd32d0>"
       ]
      }
     ],
     "prompt_number": 43
    },
    {
     "cell_type": "code",
     "collapsed": false,
     "input": [
      "sp500['Market'] = np.log(sp500['Close'] / sp500['Close'].shift(1))"
     ],
     "language": "python",
     "metadata": {
      "uuid": "0e51676f-7b84-441d-8191-08799247774c"
     },
     "outputs": [],
     "prompt_number": 44
    },
    {
     "cell_type": "code",
     "collapsed": false,
     "input": [
      "sp500['Strategy'] = sp500['Regime'].shift(1) * sp500['Market']"
     ],
     "language": "python",
     "metadata": {
      "uuid": "25f3c42a-ec95-46e3-a194-4e29f0c830af"
     },
     "outputs": [],
     "prompt_number": 45
    },
    {
     "cell_type": "code",
     "collapsed": false,
     "input": [
      "sp500[['Market', 'Strategy']].cumsum().apply(np.exp).plot(grid=True,\n",
      "                                                    figsize=(8, 5))\n",
      "# tag: sp500_wealth\n",
      "# title: The S&P 500 index vs. investor's wealth"
     ],
     "language": "python",
     "metadata": {
      "uuid": "ce759e67-918d-432c-a411-b22c6777dac5"
     },
     "outputs": [
      {
       "metadata": {},
       "output_type": "pyout",
       "prompt_number": 46,
       "text": [
        "<matplotlib.axes._subplots.AxesSubplot at 0x1379d7c50>"
       ]
      },
      {
       "metadata": {},
       "output_type": "display_data",
       "png": "[encoded data removed]",
       "text": [
        "<matplotlib.figure.Figure at 0x13799e510>"
       ]
      }
     ],
     "prompt_number": 46
    },
    {
     "cell_type": "heading",
     "level": 2,
     "metadata": {},
     "source": [
      "Conclusions"
     ]
    },
    {
     "cell_type": "heading",
     "level": 2,
     "metadata": {},
     "source": [
      "Further Reading"
     ]
    },
    {
     "cell_type": "markdown",
     "metadata": {},
     "source": [
      "<img src=\"http://hilpisch.com/tpq_logo.png\" alt=\"The Python Quants\" width=\"35%\" align=\"right\" border=\"0\"><br>\n",
      "\n",
      "<a href=\"http://www.pythonquants.com\" target=\"_blank\">www.pythonquants.com</a> | <a href=\"http://twitter.com/dyjh\" target=\"_blank\">@dyjh</a>\n",
      "\n",
      "<a href=\"mailto:analytics@pythonquants.com\">analytics@pythonquants.com</a>\n",
      "\n",
      "**Python Quant Platform** |\n",
      "<a href=\"http://oreilly.quant-platform.com\">http://oreilly.quant-platform.com</a>\n",
      "\n",
      "**Derivatives Analytics with Python** |\n",
      "<a href=\"http://www.derivatives-analytics-with-python.com\" target=\"_blank\">Derivatives Analytics @ Wiley Finance</a>\n",
      "\n",
      "**Python for Finance** |\n",
      "<a href=\"http://shop.oreilly.com/product/0636920032441.do\" target=\"_blank\">Python for Finance @ O'Reilly</a>"
     ]
    }
   ],
   "metadata": {}
  }
 ]
}